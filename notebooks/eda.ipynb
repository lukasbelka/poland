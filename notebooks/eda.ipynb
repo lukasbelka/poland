{
 "cells": [
  {
   "cell_type": "code",
   "execution_count": 1,
   "id": "b009d32a",
   "metadata": {},
   "outputs": [
    {
     "name": "stdout",
     "output_type": "stream",
     "text": [
      "['D_4Q2024.xlsx', 'D_4Q2023.xlsx', 'D_1Q2024.xlsx', 'D_2Q2023.xlsx', 'D_1Q2023.xlsx', 'D_2Q2024.xlsx', 'D_3Q2023.xlsx', 'D_4Q2022.xlsx', 'D_3Q2022.xls', 'D_1Q2022.xlsx', 'D_3Q2024.xlsx', 'D_2Q2022.xlsx', 'D_1Q2025.xlsx']\n"
     ]
    }
   ],
   "source": [
    "import os\n",
    "import pandas as pd\n",
    "\n",
    "raw_dir='/home/lukas/development/poland/data/D/raw'\n",
    "\n",
    "files = os.listdir(raw_dir)\n",
    "print(files)"
   ]
  },
  {
   "cell_type": "code",
   "execution_count": 2,
   "id": "c2e2586f",
   "metadata": {},
   "outputs": [
    {
     "name": "stdout",
     "output_type": "stream",
     "text": [
      "<class 'pandas.core.frame.DataFrame'>\n",
      "RangeIndex: 20 entries, 0 to 19\n",
      "Data columns (total 7 columns):\n",
      " #   Column             Non-Null Count  Dtype         \n",
      "---  ------             --------------  -----         \n",
      " 0   class_no           20 non-null     object        \n",
      " 1   ytd                20 non-null     float64       \n",
      " 2   kpi                20 non-null     object        \n",
      " 3   reporting_period   20 non-null     object        \n",
      " 4   reporting_quarter  20 non-null     int64         \n",
      " 5   reporting_year     20 non-null     int64         \n",
      " 6   reporting_date     20 non-null     datetime64[ns]\n",
      "dtypes: datetime64[ns](1), float64(1), int64(2), object(3)\n",
      "memory usage: 1.2+ KB\n"
     ]
    }
   ],
   "source": [
    "import os\n",
    "import pandas as pd\n",
    "\n",
    "interim_dir='/home/lukas/development/poland/data/D/interim'\n",
    "# processed_dir='data/D/processed'\n",
    "#sheet_name='Tabl.D.2c'\n",
    "\n",
    "df_test = pd.read_csv(os.path.join(interim_dir, 'D_1Q2025_gwp.csv'), parse_dates=['reporting_date'])\n",
    "df_test.info()\n"
   ]
  }
 ],
 "metadata": {
  "kernelspec": {
   "display_name": "venv",
   "language": "python",
   "name": "python3"
  },
  "language_info": {
   "codemirror_mode": {
    "name": "ipython",
    "version": 3
   },
   "file_extension": ".py",
   "mimetype": "text/x-python",
   "name": "python",
   "nbconvert_exporter": "python",
   "pygments_lexer": "ipython3",
   "version": "3.12.3"
  }
 },
 "nbformat": 4,
 "nbformat_minor": 5
}
